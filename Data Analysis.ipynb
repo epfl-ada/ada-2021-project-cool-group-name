{
 "cells": [
  {
   "cell_type": "code",
   "execution_count": 1,
   "id": "a709e5de",
   "metadata": {},
   "outputs": [],
   "source": [
    "import os\n",
    "import pandas as pd\n",
    "import numpy as np\n",
    "import time\n",
    "from collections import Counter\n",
    "import bz2\n",
    "import re\n",
    "import matplotlib.pyplot as plt\n",
    "import seaborn as sns\n",
    "\n",
    "import utils"
   ]
  },
  {
   "cell_type": "code",
   "execution_count": 2,
   "id": "8aacd732",
   "metadata": {},
   "outputs": [],
   "source": [
    "def get_words(string):\n",
    "    # Make all lower-case.\n",
    "    string = string.lower()\n",
    "    \n",
    "    # Remove punctuation.\n",
    "    string = re.sub(r'[^a-z0-9 ]', '', string)\n",
    "    \n",
    "    # Split into words.\n",
    "    words = string.split()\n",
    "    \n",
    "    return words"
   ]
  },
  {
   "cell_type": "code",
   "execution_count": 3,
   "id": "e901c6bc",
   "metadata": {},
   "outputs": [],
   "source": [
    "def process_files(data_dir, output_file_path, can_reuse_output = True):\n",
    "    if os.path.isfile(output_file_path) and can_reuse_output:\n",
    "        return\n",
    "    \n",
    "    filenames = [filename for filename in os.listdir(data_dir) if filename.endswith('.json.bz2')]\n",
    "    input_files_paths = [os.path.join(data_dir, filename) for filename in filenames]\n",
    "\n",
    "    domain_matcher = re.compile(r\"^(?:https?:\\/\\/)?(?:[^@\\/\\n]+@)?(?:www\\.)?(?P<domain>[^:\\/?\\n]+)\")\n",
    "    get_domain_from_url = lambda url: domain_matcher.match(url).group('domain')\n",
    "    \n",
    "    processing_function = lambda line: {'quote_word_count': Counter(get_words(line['quotation'])),\n",
    "                                        'speaker'         : line['speaker'],\n",
    "                                        'qids'            : line['qids'],\n",
    "                                        'first_date'      : line['date'],\n",
    "                                        'num_occurrences' : line['numOccurrences'],\n",
    "                                        'domains'         : [get_domain_from_url(url) for url in line['urls']]}\n",
    "    \n",
    "    with bz2.open(output_file_path, 'wb') as output_file:\n",
    "        for input_file_path in input_files_paths:\n",
    "            utils.process_json_file_per_line(input_file_path, processing_function, output_file)"
   ]
  },
  {
   "cell_type": "code",
   "execution_count": 4,
   "id": "cffc7c5c",
   "metadata": {
    "scrolled": true
   },
   "outputs": [],
   "source": [
    "DATA_DIR = 'Data'\n",
    "CACHE_DIR = 'Cache'\n",
    "SPEAKER_INFO_FILE_PATH = os.path.join(DATA_DIR, 'speaker_attributes.parquet')\n",
    "CACHE_FILE_PATH = os.path.join(CACHE_DIR, 'processed_data.json.bz2')\n",
    "\n",
    "process_files(DATA_DIR, CACHE_FILE_PATH)"
   ]
  },
  {
   "cell_type": "markdown",
   "id": "9c8bb42b",
   "metadata": {},
   "source": [
    "### What is a Viral Quote?"
   ]
  },
  {
   "cell_type": "code",
   "execution_count": 5,
   "id": "4ffc63d7",
   "metadata": {
    "scrolled": true
   },
   "outputs": [],
   "source": [
    "@utils.cache_to_file_pickle(\"function-get_num_occurrences\", cache_dir = CACHE_DIR, ignore_kwargs = [\"print_progress_every\"])\n",
    "def get_num_occurrences(input_file_path, print_progress_every):\n",
    "    return process_json_file_per_line(input_file_path, \n",
    "                                      lambda x: x['num_occurrences'], \n",
    "                                      return_processed_lines_list = True,\n",
    "                                      print_progress_every = print_progress_every)\n",
    "\n",
    "\n",
    "num_occurrences = get_num_occurrences(input_file_path = CACHE_FILE_PATH)\n",
    "num_occurrences = np.array(num_occurrences)"
   ]
  },
  {
   "cell_type": "code",
   "execution_count": 6,
   "id": "158af715",
   "metadata": {},
   "outputs": [
    {
     "data": {
      "image/png": "[encoded data removed]",
      "text/plain": [
       "<Figure size 1008x576 with 1 Axes>"
      ]
     },
     "metadata": {
      "needs_background": "light"
     },
     "output_type": "display_data"
    }
   ],
   "source": [
    "plt.figure(figsize = (14, 8))\n",
    "sns.histplot(num_occurrences, bins = 500, log_scale = (True, True));"
   ]
  },
  {
   "cell_type": "markdown",
   "id": "20f855d9",
   "metadata": {},
   "source": [
    "#### IT'S A POWER LAW (MAYBE)!"
   ]
  },
  {
   "cell_type": "code",
   "execution_count": 7,
   "id": "aceff145",
   "metadata": {},
   "outputs": [
    {
     "data": {
      "text/plain": [
       "count    115584257\n",
       "mean             3\n",
       "std            113\n",
       "min              1\n",
       "50%              1\n",
       "95%             10\n",
       "96%             13\n",
       "97%             17\n",
       "98%             26\n",
       "99%             55\n",
       "99.5%           90\n",
       "99.9%          215\n",
       "max         282552\n",
       "dtype: int64"
      ]
     },
     "execution_count": 7,
     "metadata": {},
     "output_type": "execute_result"
    }
   ],
   "source": [
    "pd.Series(num_occurrences).describe(percentiles = [0.95, 0.96, 0.97, 0.98, 0.99, 0.995, 0.999]).apply(int)"
   ]
  },
  {
   "cell_type": "code",
   "execution_count": 8,
   "id": "bd6d0d31",
   "metadata": {},
   "outputs": [
    {
     "name": "stdout",
     "output_type": "stream",
     "text": [
      "99.587% of quotes are quoted less than 100 times\n",
      "Quotes cited 100 times or more: 477879\n",
      "Quotes cited less than 100 times: 115106378\n"
     ]
    }
   ],
   "source": [
    "viral_thr = 100\n",
    "\n",
    "print(f\"{np.mean(num_occurrences < viral_thr):.3%} of quotes are quoted less than {viral_thr} times\")\n",
    "print(f\"Quotes cited {viral_thr} times or more:\", np.sum(num_occurrences >= viral_thr))\n",
    "print(f\"Quotes cited less than {viral_thr} times:\", np.sum(num_occurrences < viral_thr))"
   ]
  },
  {
   "cell_type": "markdown",
   "id": "5a2e125f",
   "metadata": {},
   "source": [
    "### Extract Speaker Information"
   ]
  },
  {
   "cell_type": "code",
   "execution_count": null,
   "id": "b60432e8",
   "metadata": {},
   "outputs": [],
   "source": [
    "# OTHER JUPYTER"
   ]
  },
  {
   "cell_type": "markdown",
   "id": "c61e6189",
   "metadata": {},
   "source": [
    "# POUR KAOU\n",
    "\n",
    "Bonjour Kaou, tu as choisi word counting. Si tu n'as pas lu ça assez tôt, j'ai déjà eu le temps de relancer la cellule du haut et enlever la punctuation plus mettre tous les mots en minuscule pour toi.\n",
    "\n",
    "Lis cette page pour des idées sur comment faire évoluer ton travail au délà du word counting: https://scikit-learn.org/stable/modules/feature_extraction.html\n",
    "\n",
    "Je te mets aussi à disposition une simple fonction qui efface les \"English stop words\" d'une liste de mots. Par contre, fais gaffe à comment tu l'utilises. Les stop words ne sont pas nécéssairement toutes toujours inutiles. Lis sklearn pour les détails et affiche la liste avant d'utiliser la fonction pour voir si elle t'arrange. Tu peux covertir la fonction pour qu'elle droppe le compte des stop words dans un compteur en faisant del counter_object[word]."
   ]
  },
  {
   "cell_type": "code",
   "execution_count": 1,
   "id": "94165174",
   "metadata": {},
   "outputs": [],
   "source": [
    "from sklearn.feature_extraction.text import ENGLISH_STOP_WORDS\n",
    "\n",
    "def remove_stopwords(word_list):\n",
    "    return [word for word in word_list if word not in ENGLISH_STOP_WORDS]"
   ]
  },
  {
   "cell_type": "code",
   "execution_count": null,
   "id": "f290c689",
   "metadata": {},
   "outputs": [],
   "source": []
  },
  {
   "cell_type": "code",
   "execution_count": null,
   "id": "ffc82165",
   "metadata": {},
   "outputs": [],
   "source": []
  },
  {
   "cell_type": "code",
   "execution_count": null,
   "id": "4c788fba",
   "metadata": {},
   "outputs": [],
   "source": []
  },
  {
   "cell_type": "markdown",
   "id": "3610133d",
   "metadata": {},
   "source": [
    "# POUR CÉLINA\n",
    "\n",
    "Coucou CC, il nous ont donné un file .parquet (juste un autre format de stockage binaire, un peux comme pickle) que normalement j'ai mis dans le dossier Data. Il devrait contenir plusieures informations sur chaque speaker. Tu peux le load comme ça, mais il me semble qu'il faut installer pyarrow (  conda install -c conda-forge pyarrow  ).\n",
    "\n",
    "Malheureusement il parait qu'ils aient utilisé le QID de Wikidata pour encoder la profession, religion et tout le reste. Probablement une des première choses à faire est de trouver un moyen de mapper les QIDS à des string, que je sais faire en faisant des queries à wikidata mais je me demande s'il n'y a pas un moyen plus simple. Au pire on le fait (que une fois de toute façon).\n",
    "\n",
    "Il faudrait aussi s'assurer que dans le parquet qu'ils nous donnent il n'y ait pas que peu d'occupations au bol, mais un grand nombre comme celui qu'on voit sur wikidata, car autrement on a le même problème que quand je faisais les queries (que j'ai découvert comment resudre) qui est que pour des gens avec beaucoup de professions on en avait seulement 3 au bol.\n",
    "\n",
    "Oubliepas que je t'ai dit qu'il y a un problème avec l'antivirus et la lecture de .json. Je ne sais pas pourquoi, mais à chaque fois que tu veux commencer à lire un json tu dois mettre en standby l'anti-virus pendant une minute. C'est assez chiant, mais je n'ai pas trouvé d'autre solution (sinon, le programme ne plante pas, il s'arrete juste et ne dit rien et attend jusqu'à que tu desactives).\n",
    "\n",
    "Pour le moment c'est tout je crois."
   ]
  },
  {
   "cell_type": "markdown",
   "id": "e95724d7",
   "metadata": {},
   "source": [
    "- Cas quand plusieurs qids par quote, lequel on prend ? (je sais pas s'il y a moyen de savoir laquelle est la plus populaire, peut-être celle qui a le plus de liens externes)"
   ]
  },
  {
   "cell_type": "code",
   "execution_count": null,
   "id": "b2818791",
   "metadata": {},
   "outputs": [],
   "source": []
  },
  {
   "cell_type": "markdown",
   "id": "f86fda96",
   "metadata": {},
   "source": [
    "# POUR ANDREA\n",
    "Bonjour Andrea, ça va? Oui très bien, merci. J'essaye de poser une base pour commencer le Milestone 2 du projet. Et toi? Moi aussi, drôle ça. Bon, à toute. Bon travail, à toute.\n",
    "\n",
    "Il faut rerun la lecture du dataset avec la remotion de ponctuation.\n",
    "\n",
    "Je suppose que tu vas faire la partie de correler les dates à des événements, et si t'as envie d'essayer d'extraire la variance. Par contre pour le moment je ne sais pas trop comment ça colle avec le reste de l'analyse. Dans le sens que la data story va parler de quoi concernant les dates?"
   ]
  },
  {
   "cell_type": "code",
   "execution_count": null,
   "id": "92973258",
   "metadata": {},
   "outputs": [],
   "source": []
  },
  {
   "cell_type": "code",
   "execution_count": null,
   "id": "7851cc3c",
   "metadata": {},
   "outputs": [],
   "source": []
  },
  {
   "cell_type": "code",
   "execution_count": null,
   "id": "ed9d6612",
   "metadata": {},
   "outputs": [],
   "source": []
  },
  {
   "cell_type": "markdown",
   "id": "00c7d9d3",
   "metadata": {},
   "source": [
    "# POUR MATTIA\n",
    "Buongiorno Mattia, je suppose que tu vas faire la partie de regarder les newspapers et correler avec les speakers et, si on arrive, l'argument de la quote. Pour toi je crois que juste load le processed_data.json.bz2 et garder que les clés 'domains' et 'speaker' devrait le faire. Il faudra sûrement se coordonner avec Célina et Kaou pour voir justement comment correler les trucs. Pour le moment, je t'avoue que comme pour ma partie, je n'ai pas une idéé précide de comment ceci va coller dans une data story coherente. Faudra que Kaou et Célina avancent rapidement pour que tu puisse commencer à repliquer leur travail mais pour différents newspapers. Ou je ne sais pas. Faudra juste pas qu'on reste bloqués si on attend quelqu'un d'autre."
   ]
  }
 ],
 "metadata": {
  "kernelspec": {
   "display_name": "Python 3 (ipykernel)",
   "language": "python",
   "name": "python3"
  },
  "language_info": {
   "codemirror_mode": {
    "name": "ipython",
    "version": 3
   },
   "file_extension": ".py",
   "mimetype": "text/x-python",
   "name": "python",
   "nbconvert_exporter": "python",
   "pygments_lexer": "ipython3",
   "version": "3.8.11"
  }
 },
 "nbformat": 4,
 "nbformat_minor": 5
}
