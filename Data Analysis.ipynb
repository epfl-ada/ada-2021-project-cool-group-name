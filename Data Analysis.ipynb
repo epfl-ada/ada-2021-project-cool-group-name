{
 "cells": [
  {
   "cell_type": "code",
   "execution_count": 1,
   "id": "a709e5de",
   "metadata": {},
   "outputs": [],
   "source": [
    "import os\n",
    "import pandas as pd\n",
    "import matplotlib.pyplot as plt\n",
    "import seaborn as sns\n",
    "\n",
    "import utils\n",
    "import feature_extraction"
   ]
  },
  {
   "cell_type": "code",
   "execution_count": 2,
   "id": "dcb7d414",
   "metadata": {},
   "outputs": [],
   "source": [
    "DATA_DIR = 'Data'\n",
    "CACHE_DIR = 'Cache'\n",
    "SPEAKER_INFO_FILE_PATH = os.path.join(DATA_DIR, 'speaker_attributes.parquet')"
   ]
  },
  {
   "cell_type": "code",
   "execution_count": 3,
   "id": "c9f6d60a",
   "metadata": {
    "scrolled": true
   },
   "outputs": [
    {
     "name": "stdout",
     "output_type": "stream",
     "text": [
      "Starting processing Data\\quotes-2015.json.bz2\n",
      "Processed 1000000 lines from Data\\quotes-2015.json.bz2 in 0.644 minutes\n",
      "Processed 2000000 lines from Data\\quotes-2015.json.bz2 in 1.270 minutes\n",
      "Processed 3000000 lines from Data\\quotes-2015.json.bz2 in 1.890 minutes\n",
      "Processed 4000000 lines from Data\\quotes-2015.json.bz2 in 2.542 minutes\n",
      "Processed 5000000 lines from Data\\quotes-2015.json.bz2 in 3.188 minutes\n",
      "Processed 6000000 lines from Data\\quotes-2015.json.bz2 in 3.829 minutes\n",
      "Processed 7000000 lines from Data\\quotes-2015.json.bz2 in 4.439 minutes\n",
      "Processed 8000000 lines from Data\\quotes-2015.json.bz2 in 5.058 minutes\n",
      "Processed 9000000 lines from Data\\quotes-2015.json.bz2 in 5.698 minutes\n",
      "Processed 10000000 lines from Data\\quotes-2015.json.bz2 in 6.325 minutes\n",
      "Processed 11000000 lines from Data\\quotes-2015.json.bz2 in 6.941 minutes\n",
      "Processed 12000000 lines from Data\\quotes-2015.json.bz2 in 7.564 minutes\n",
      "Processed 13000000 lines from Data\\quotes-2015.json.bz2 in 8.243 minutes\n",
      "Processed 14000000 lines from Data\\quotes-2015.json.bz2 in 8.885 minutes\n",
      "Processed 15000000 lines from Data\\quotes-2015.json.bz2 in 9.578 minutes\n",
      "Processed 16000000 lines from Data\\quotes-2015.json.bz2 in 10.277 minutes\n",
      "Processed 17000000 lines from Data\\quotes-2015.json.bz2 in 10.981 minutes\n",
      "Processed 18000000 lines from Data\\quotes-2015.json.bz2 in 11.714 minutes\n",
      "Processed 19000000 lines from Data\\quotes-2015.json.bz2 in 12.456 minutes\n",
      "Processed 20000000 lines from Data\\quotes-2015.json.bz2 in 13.179 minutes\n",
      "Finished processing Data\\quotes-2015.json.bz2 in 13.777 minutes\n",
      "Starting processing Data\\quotes-2016.json.bz2\n",
      "Processed 1000000 lines from Data\\quotes-2016.json.bz2 in 0.758 minutes\n",
      "Processed 2000000 lines from Data\\quotes-2016.json.bz2 in 1.520 minutes\n",
      "Processed 3000000 lines from Data\\quotes-2016.json.bz2 in 2.266 minutes\n",
      "Processed 4000000 lines from Data\\quotes-2016.json.bz2 in 3.039 minutes\n",
      "Processed 5000000 lines from Data\\quotes-2016.json.bz2 in 3.820 minutes\n",
      "Processed 6000000 lines from Data\\quotes-2016.json.bz2 in 4.573 minutes\n",
      "Processed 7000000 lines from Data\\quotes-2016.json.bz2 in 5.344 minutes\n",
      "Processed 8000000 lines from Data\\quotes-2016.json.bz2 in 6.128 minutes\n",
      "Processed 9000000 lines from Data\\quotes-2016.json.bz2 in 6.940 minutes\n",
      "Processed 10000000 lines from Data\\quotes-2016.json.bz2 in 7.752 minutes\n",
      "Processed 11000000 lines from Data\\quotes-2016.json.bz2 in 8.535 minutes\n",
      "Processed 12000000 lines from Data\\quotes-2016.json.bz2 in 9.310 minutes\n",
      "Processed 13000000 lines from Data\\quotes-2016.json.bz2 in 10.092 minutes\n",
      "Finished processing Data\\quotes-2016.json.bz2 in 10.768 minutes\n",
      "Starting processing Data\\quotes-2017.json.bz2\n",
      "Processed 1000000 lines from Data\\quotes-2017.json.bz2 in 0.836 minutes\n",
      "Processed 2000000 lines from Data\\quotes-2017.json.bz2 in 1.710 minutes\n",
      "Processed 3000000 lines from Data\\quotes-2017.json.bz2 in 2.548 minutes\n",
      "Processed 4000000 lines from Data\\quotes-2017.json.bz2 in 3.377 minutes\n",
      "Processed 5000000 lines from Data\\quotes-2017.json.bz2 in 4.192 minutes\n",
      "Processed 6000000 lines from Data\\quotes-2017.json.bz2 in 5.005 minutes\n",
      "Processed 7000000 lines from Data\\quotes-2017.json.bz2 in 5.772 minutes\n",
      "Processed 8000000 lines from Data\\quotes-2017.json.bz2 in 6.589 minutes\n",
      "Processed 9000000 lines from Data\\quotes-2017.json.bz2 in 7.366 minutes\n",
      "Processed 10000000 lines from Data\\quotes-2017.json.bz2 in 8.156 minutes\n",
      "Processed 11000000 lines from Data\\quotes-2017.json.bz2 in 8.897 minutes\n",
      "Processed 12000000 lines from Data\\quotes-2017.json.bz2 in 9.662 minutes\n",
      "Processed 13000000 lines from Data\\quotes-2017.json.bz2 in 10.408 minutes\n",
      "Processed 14000000 lines from Data\\quotes-2017.json.bz2 in 11.168 minutes\n",
      "Processed 15000000 lines from Data\\quotes-2017.json.bz2 in 12.012 minutes\n",
      "Processed 16000000 lines from Data\\quotes-2017.json.bz2 in 12.855 minutes\n",
      "Processed 17000000 lines from Data\\quotes-2017.json.bz2 in 13.651 minutes\n",
      "Processed 18000000 lines from Data\\quotes-2017.json.bz2 in 14.442 minutes\n",
      "Processed 19000000 lines from Data\\quotes-2017.json.bz2 in 15.220 minutes\n",
      "Processed 20000000 lines from Data\\quotes-2017.json.bz2 in 16.031 minutes\n",
      "Processed 21000000 lines from Data\\quotes-2017.json.bz2 in 16.818 minutes\n",
      "Processed 22000000 lines from Data\\quotes-2017.json.bz2 in 17.581 minutes\n",
      "Processed 23000000 lines from Data\\quotes-2017.json.bz2 in 18.374 minutes\n",
      "Processed 24000000 lines from Data\\quotes-2017.json.bz2 in 19.181 minutes\n",
      "Processed 25000000 lines from Data\\quotes-2017.json.bz2 in 19.990 minutes\n",
      "Processed 26000000 lines from Data\\quotes-2017.json.bz2 in 20.762 minutes\n",
      "Finished processing Data\\quotes-2017.json.bz2 in 21.230 minutes\n",
      "Starting processing Data\\quotes-2018.json.bz2\n",
      "Processed 1000000 lines from Data\\quotes-2018.json.bz2 in 0.731 minutes\n",
      "Processed 2000000 lines from Data\\quotes-2018.json.bz2 in 1.499 minutes\n",
      "Processed 3000000 lines from Data\\quotes-2018.json.bz2 in 2.294 minutes\n",
      "Processed 4000000 lines from Data\\quotes-2018.json.bz2 in 3.049 minutes\n",
      "Processed 5000000 lines from Data\\quotes-2018.json.bz2 in 3.791 minutes\n",
      "Processed 6000000 lines from Data\\quotes-2018.json.bz2 in 4.539 minutes\n",
      "Processed 7000000 lines from Data\\quotes-2018.json.bz2 in 5.263 minutes\n",
      "Processed 8000000 lines from Data\\quotes-2018.json.bz2 in 6.000 minutes\n",
      "Processed 9000000 lines from Data\\quotes-2018.json.bz2 in 6.756 minutes\n",
      "Processed 10000000 lines from Data\\quotes-2018.json.bz2 in 7.529 minutes\n",
      "Processed 11000000 lines from Data\\quotes-2018.json.bz2 in 8.265 minutes\n",
      "Processed 12000000 lines from Data\\quotes-2018.json.bz2 in 9.013 minutes\n",
      "Processed 13000000 lines from Data\\quotes-2018.json.bz2 in 9.762 minutes\n",
      "Processed 14000000 lines from Data\\quotes-2018.json.bz2 in 10.502 minutes\n",
      "Processed 15000000 lines from Data\\quotes-2018.json.bz2 in 11.221 minutes\n",
      "Processed 16000000 lines from Data\\quotes-2018.json.bz2 in 11.975 minutes\n",
      "Processed 17000000 lines from Data\\quotes-2018.json.bz2 in 12.697 minutes\n",
      "Processed 18000000 lines from Data\\quotes-2018.json.bz2 in 13.401 minutes\n",
      "Processed 19000000 lines from Data\\quotes-2018.json.bz2 in 14.097 minutes\n",
      "Processed 20000000 lines from Data\\quotes-2018.json.bz2 in 14.811 minutes\n",
      "Processed 21000000 lines from Data\\quotes-2018.json.bz2 in 15.521 minutes\n",
      "Processed 22000000 lines from Data\\quotes-2018.json.bz2 in 16.264 minutes\n",
      "Processed 23000000 lines from Data\\quotes-2018.json.bz2 in 16.920 minutes\n",
      "Processed 24000000 lines from Data\\quotes-2018.json.bz2 in 17.565 minutes\n",
      "Processed 25000000 lines from Data\\quotes-2018.json.bz2 in 18.221 minutes\n",
      "Processed 26000000 lines from Data\\quotes-2018.json.bz2 in 18.870 minutes\n",
      "Processed 27000000 lines from Data\\quotes-2018.json.bz2 in 19.523 minutes\n",
      "Finished processing Data\\quotes-2018.json.bz2 in 19.684 minutes\n",
      "Starting processing Data\\quotes-2019.json.bz2\n",
      "Processed 1000000 lines from Data\\quotes-2019.json.bz2 in 0.650 minutes\n",
      "Processed 2000000 lines from Data\\quotes-2019.json.bz2 in 1.274 minutes\n",
      "Processed 3000000 lines from Data\\quotes-2019.json.bz2 in 1.903 minutes\n",
      "Processed 4000000 lines from Data\\quotes-2019.json.bz2 in 2.568 minutes\n",
      "Processed 5000000 lines from Data\\quotes-2019.json.bz2 in 3.216 minutes\n",
      "Processed 6000000 lines from Data\\quotes-2019.json.bz2 in 3.872 minutes\n",
      "Processed 7000000 lines from Data\\quotes-2019.json.bz2 in 4.506 minutes\n",
      "Processed 8000000 lines from Data\\quotes-2019.json.bz2 in 5.156 minutes\n",
      "Processed 9000000 lines from Data\\quotes-2019.json.bz2 in 5.809 minutes\n",
      "Processed 10000000 lines from Data\\quotes-2019.json.bz2 in 6.510 minutes\n",
      "Processed 11000000 lines from Data\\quotes-2019.json.bz2 in 7.167 minutes\n",
      "Processed 12000000 lines from Data\\quotes-2019.json.bz2 in 7.821 minutes\n",
      "Processed 13000000 lines from Data\\quotes-2019.json.bz2 in 8.477 minutes\n",
      "Processed 14000000 lines from Data\\quotes-2019.json.bz2 in 9.154 minutes\n",
      "Processed 15000000 lines from Data\\quotes-2019.json.bz2 in 9.802 minutes\n",
      "Processed 16000000 lines from Data\\quotes-2019.json.bz2 in 10.430 minutes\n",
      "Processed 17000000 lines from Data\\quotes-2019.json.bz2 in 11.051 minutes\n",
      "Processed 18000000 lines from Data\\quotes-2019.json.bz2 in 11.673 minutes\n",
      "Processed 19000000 lines from Data\\quotes-2019.json.bz2 in 12.298 minutes\n",
      "Processed 20000000 lines from Data\\quotes-2019.json.bz2 in 12.920 minutes\n"
     ]
    },
    {
     "name": "stdout",
     "output_type": "stream",
     "text": [
      "Processed 21000000 lines from Data\\quotes-2019.json.bz2 in 13.608 minutes\n",
      "Finished processing Data\\quotes-2019.json.bz2 in 14.119 minutes\n",
      "Starting processing Data\\quotes-2020.json.bz2\n",
      "Processed 1000000 lines from Data\\quotes-2020.json.bz2 in 0.648 minutes\n",
      "Processed 2000000 lines from Data\\quotes-2020.json.bz2 in 1.272 minutes\n",
      "Processed 3000000 lines from Data\\quotes-2020.json.bz2 in 1.896 minutes\n",
      "Processed 4000000 lines from Data\\quotes-2020.json.bz2 in 2.525 minutes\n",
      "Processed 5000000 lines from Data\\quotes-2020.json.bz2 in 3.147 minutes\n",
      "Finished processing Data\\quotes-2020.json.bz2 in 3.299 minutes\n"
     ]
    }
   ],
   "source": [
    "@utils.cache_to_file_pickle(\"function-dataset_stats\", cache_dir = CACHE_DIR)\n",
    "def dataset_stats(data_dir, speaker_info_file_path):\n",
    "    qid_labels, linkcounts = utils.query_wikidata_for_linkcounts_and_labels(data_dir = DATA_DIR, speaker_info_file_path = SPEAKER_INFO_FILE_PATH)\n",
    "    speaker_data = pd.read_parquet(speaker_info_file_path, columns = ['id', 'date_of_birth', 'gender', 'occupation', 'nationality', 'ethnic_group', 'religion']).set_index('id').to_dict('index') \n",
    "\n",
    "    num_occurrences_counts = {}\n",
    "    speaker_info_counts = {}\n",
    "    for key in ['Age', 'Gender', 'Occupation', 'Nationality', 'Ethnicity', 'Religion']:\n",
    "        speaker_info_counts[key] = {'Available': 0, 'Not Available': 0, 'Not Weighted': {}, 'Weighted by Quote Counts': {}, 'Weighted by Number of Occurrences': {}}\n",
    "        \n",
    "    for line in utils.json_lines_generator(data_dir):\n",
    "        line_num_occurrences = line['numOccurrences']\n",
    "        num_occurrences_counts[line_num_occurrences] = num_occurrences_counts.get(line_num_occurrences, 0) + 1\n",
    "        \n",
    "        # Solve ambiguities in speaker qids due to homonyms.\n",
    "        speaker = feature_extraction.solve_ambiguous_speakers(line['qids'], linkcounts)\n",
    "        \n",
    "        # Calculate speaker age.\n",
    "        speaker_birth_date = speaker_data.get(speaker, {}).get('date_of_birth', None)\n",
    "        speaker_age = feature_extraction.get_speaker_age(speaker_birth_date, line['date'])\n",
    "        if speaker_age is None:\n",
    "            speaker_info_counts['Age']['Not Available'] += 1\n",
    "        else:    \n",
    "            speaker_info_counts['Age']['Available'] += 1\n",
    "            speaker_info_counts['Age']['Not Weighted'][speaker_age] = 1\n",
    "            previous = speaker_info_counts['Age']['Weighted by Quote Counts'].get(speaker_age, 0)\n",
    "            speaker_info_counts['Age']['Weighted by Quote Counts'][speaker_age] = previous + 1\n",
    "            previous = speaker_info_counts['Age']['Weighted by Number of Occurrences'].get(speaker_age, 0)\n",
    "            speaker_info_counts['Age']['Weighted by Number of Occurrences'][speaker_age] = previous + line_num_occurrences\n",
    "\n",
    "        # For all other keys, the procedure is the same.\n",
    "        for key_speaker_data, key_speaker_info_counts in [('gender', 'Gender'), \n",
    "                                                          ('occupation', 'Occupation'), \n",
    "                                                          ('nationality', 'Nationality'), \n",
    "                                                          ('ethnic_group', 'Ethnicity'),\n",
    "                                                          ('religion', 'Religion')]:\n",
    "            # Extract value.\n",
    "            speaker_value = speaker_data.get(speaker, {}).get(key_speaker_data, None)\n",
    "            if speaker_value is None or len(speaker_value) == 0:\n",
    "                speaker_info_counts[key_speaker_info_counts]['Not Available'] += 1\n",
    "            else:\n",
    "                speaker_info_counts[key_speaker_info_counts]['Available'] += 1\n",
    "\n",
    "                # For people with multiple value for one statistic, we simply add the weight of the quote to each possibility.\n",
    "                for possibility in speaker_value:\n",
    "                    possibility = qid_labels.get(possibility, None)\n",
    "                    if possibility is None:\n",
    "                        continue\n",
    "\n",
    "                    speaker_info_counts[key_speaker_info_counts]['Not Weighted'][possibility] = 1\n",
    "                    previous = speaker_info_counts[key_speaker_info_counts]['Weighted by Quote Counts'].get(possibility, 0)\n",
    "                    speaker_info_counts[key_speaker_info_counts]['Weighted by Quote Counts'][possibility] = previous + 1\n",
    "                    previous = speaker_info_counts[key_speaker_info_counts]['Weighted by Number of Occurrences'].get(possibility, 0)\n",
    "                    speaker_info_counts[key_speaker_info_counts]['Weighted by Number of Occurrences'][possibility] = previous + line_num_occurrences\n",
    "\n",
    "    return num_occurrences_counts, speaker_info_counts\n",
    "        \n",
    "num_occurrences_counts, speaker_info_counts = dataset_stats(data_dir = DATA_DIR, speaker_info_file_path = SPEAKER_INFO_FILE_PATH)"
   ]
  },
  {
   "cell_type": "markdown",
   "id": "9c8bb42b",
   "metadata": {},
   "source": [
    "### What is a Viral Quote?"
   ]
  },
  {
   "cell_type": "code",
   "execution_count": 20,
   "id": "158af715",
   "metadata": {},
   "outputs": [
    {
     "data": {
      "image/png": "[encoded data removed]",
      "text/plain": [
       "<Figure size 1008x576 with 1 Axes>"
      ]
     },
     "metadata": {
      "needs_background": "light"
     },
     "output_type": "display_data"
    }
   ],
   "source": [
    "plt.figure(figsize = (14, 8))\n",
    "df_num_occurrences_counts = pd.DataFrame(num_occurrences_counts.items(), columns = ['Number of Occurrences', 'Count'])\n",
    "sns.histplot(df_num_occurrences_counts, x = 'Number of Occurrences', weights = 'Count', bins = 500, log_scale = (True, True));"
   ]
  },
  {
   "cell_type": "markdown",
   "id": "20f855d9",
   "metadata": {},
   "source": [
    "#### IT'S A POWER LAW (MAYBE)!"
   ]
  },
  {
   "cell_type": "code",
   "execution_count": 73,
   "id": "fd51a9af",
   "metadata": {},
   "outputs": [],
   "source": [
    "from statsmodels.stats.weightstats import DescrStatsW\n",
    "\n",
    "def describe_weighted_stats(values, weights, percentiles = []):\n",
    "    values, weights = list(values), list(weights)\n",
    "    \n",
    "    stats = DescrStatsW(values, weights = weights, ddof = 0)\n",
    "    stats_dict = {'count': stats.sum_weights, 'mean': stats.mean, 'std': stats.std, 'min': stats.quantile(0.).item()}\n",
    "    \n",
    "    for percentile in sorted([0.25, 0.5, 0.75] + percentiles):\n",
    "        stats_dict[f'{100*percentile}%'] = stats.quantile(percentile).item()\n",
    "    \n",
    "    stats_dict['max'] = stats.quantile(1.).item()\n",
    "    \n",
    "    return stats_dict"
   ]
  },
  {
   "cell_type": "code",
   "execution_count": 74,
   "id": "802827e8",
   "metadata": {},
   "outputs": [
    {
     "data": {
      "text/plain": [
       "{'count': 115584257.0,\n",
       " 'mean': 3.9926449672121005,\n",
       " 'std': 113.83433159703254,\n",
       " 'min': 1,\n",
       " '25.0%': 1,\n",
       " '50.0%': 1,\n",
       " '75.0%': 2,\n",
       " '95.0%': 10,\n",
       " '96.0%': 13,\n",
       " '97.0%': 17,\n",
       " '98.0%': 26,\n",
       " '99.0%': 55,\n",
       " '99.5%': 90,\n",
       " '99.9%': 215,\n",
       " 'max': 282552}"
      ]
     },
     "execution_count": 74,
     "metadata": {},
     "output_type": "execute_result"
    }
   ],
   "source": [
    "describe_weighted_stats(num_occurrences_counts.keys(), \n",
    "                        num_occurrences_counts.values(),\n",
    "                        percentiles = [0.95, 0.96, 0.97, 0.98, 0.99, 0.995, 0.999])"
   ]
  },
  {
   "cell_type": "code",
   "execution_count": 78,
   "id": "bd6d0d31",
   "metadata": {},
   "outputs": [
    {
     "name": "stdout",
     "output_type": "stream",
     "text": [
      "99.587% of quotes are quoted less than 100 times\n",
      "Quotes cited 100 times or more: 477879\n",
      "Quotes cited less than 100 times: 115106378\n"
     ]
    }
   ],
   "source": [
    "viral_thr = 100\n",
    "\n",
    "num_cited_more_thr = sum(value for key, value in num_occurrences_counts.items() if key >= viral_thr)\n",
    "num_cited_less_thr = sum(value for key, value in num_occurrences_counts.items() if key < viral_thr)\n",
    "\n",
    "print(f\"{num_cited_less_thr/(num_cited_less_thr + num_cited_more_thr):.3%} of quotes are quoted less than {viral_thr} times\")\n",
    "print(f\"Quotes cited {viral_thr} times or more:\", num_cited_more_thr)\n",
    "print(f\"Quotes cited less than {viral_thr} times:\", num_cited_less_thr)"
   ]
  },
  {
   "cell_type": "markdown",
   "id": "5a2e125f",
   "metadata": {},
   "source": [
    "### Plots Speaker Information"
   ]
  },
  {
   "cell_type": "markdown",
   "id": "3a09836c",
   "metadata": {},
   "source": [
    "**Double Check they look like Celina's ones. There may be a hidden bug in dataset_stats function, or whatever. Worth triple checking.**"
   ]
  },
  {
   "cell_type": "code",
   "execution_count": null,
   "id": "db3948f9",
   "metadata": {},
   "outputs": [],
   "source": []
  }
 ],
 "metadata": {
  "kernelspec": {
   "display_name": "Python 3 (ipykernel)",
   "language": "python",
   "name": "python3"
  },
  "language_info": {
   "codemirror_mode": {
    "name": "ipython",
    "version": 3
   },
   "file_extension": ".py",
   "mimetype": "text/x-python",
   "name": "python",
   "nbconvert_exporter": "python",
   "pygments_lexer": "ipython3",
   "version": "3.8.11"
  }
 },
 "nbformat": 4,
 "nbformat_minor": 5
}
