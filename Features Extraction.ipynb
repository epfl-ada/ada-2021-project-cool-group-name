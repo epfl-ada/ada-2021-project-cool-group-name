{
 "cells": [
  {
   "cell_type": "markdown",
   "id": "73af29f5",
   "metadata": {},
   "source": [
    "## Question:\n",
    "What makes a quote go viral?\n",
    "\n",
    "## Terminology:\n",
    "**VIRAL:** more than 100 occurrences on different sites.\n",
    "\n",
    "## Application:\n",
    "Providing insight on how politicians, influencers, etc. may obtain lots of visibility on a single quote.\n",
    "\n",
    "Providing insight on what classes of people are given more media attention to choose representative of whatever accordingly.\n",
    "\n",
    "## Outcome Variables:\n",
    "- Viral: yes / no\n",
    "- How fast viral viral: in how long viral quotes reached 2/3 of occurrences.\n",
    "\n",
    "## Features:\n",
    "- Indicator variables for 3 most common jobs\n",
    "- Indicator variables for 3 most common genders\n",
    "- Indicator variables for 3 most common ethnicities\n",
    "- Age of speaker\n",
    "- Date of quote (jour + mois + an) in 1 number\n",
    "- Topic: detect most common topics and indicator vars of them\n",
    "\n",
    "## Technique:\n",
    "Linear regression / Logistic regression / SVM"
   ]
  },
  {
   "cell_type": "markdown",
   "id": "682c4dcb",
   "metadata": {},
   "source": [
    "## Data Pre-Processing\n",
    "Removal of quotes for which speaker information are not available, as well as quotes from speakers which are not contemporary.\n",
    "Also solve ambiguities in speakers (sometimes several possible speakers possible)."
   ]
  },
  {
   "cell_type": "code",
   "execution_count": 1,
   "id": "a8faa2b8",
   "metadata": {},
   "outputs": [],
   "source": [
    "import re\n",
    "import bz2\n",
    "import json\n",
    "import os\n",
    "import pandas as pd\n",
    "\n",
    "import utils\n",
    "import feature_extraction"
   ]
  },
  {
   "cell_type": "code",
   "execution_count": 2,
   "id": "45b5decd",
   "metadata": {},
   "outputs": [],
   "source": [
    "DATA_DIR = \"Data\"\n",
    "CACHE_DIR = \"Cache\"\n",
    "SPEAKER_INFO_FILE_PATH = os.path.join(DATA_DIR, \"speaker_attributes.parquet\")\n",
    "PREPROCESSED_DATASET_FILE_PATH = os.path.join(CACHE_DIR, \"preprocessed_dataset.json.bz2\")"
   ]
  },
  {
   "cell_type": "code",
   "execution_count": 3,
   "id": "6a28761d",
   "metadata": {},
   "outputs": [],
   "source": [
    "qid_labels, linkcounts = utils.query_wikidata_for_linkcounts_and_labels(data_dir = DATA_DIR, speaker_info_file_path = SPEAKER_INFO_FILE_PATH)"
   ]
  },
  {
   "cell_type": "code",
   "execution_count": 4,
   "id": "a92750ad",
   "metadata": {},
   "outputs": [],
   "source": [
    "def extract_speaker_features(line, speaker_data, min_age = 5, max_age = 95):\n",
    "    features = {}\n",
    "    \n",
    "    # Try computing age of speaker and ignore lines for which speaker birth date is not available or\n",
    "    # is born too soon to be our contemporary.\n",
    "    speaker_birth_date = speaker_data.get(line['qids'], {}).get('date_of_birth', None)\n",
    "    speaker_age = feature_extraction.get_speaker_age(speaker_birth_date, line['date'])\n",
    "    \n",
    "    if speaker_age is None or speaker_age < min_age or speaker_age > max_age:\n",
    "        return\n",
    "        \n",
    "    # Extract gender of the speaker. Possible genders are summarized in 3 categories: \"male\", \"female\", \"other\".\n",
    "    speaker_gender = speaker_data.get(line['qids'], {}).get('gender', None)\n",
    "    \n",
    "    if speaker_gender is None or len(speaker_gender) == 0:\n",
    "        return\n",
    "     \n",
    "    features['speaker_gender'] = 'other'\n",
    "    if len(speaker_gender) == 1:\n",
    "        speaker_gender, = speaker_gender\n",
    "        speaker_qid_label = qid_labels.get(speaker_gender, '').lower()        \n",
    "        if speaker_qid_label in ['male', 'female']:\n",
    "            features['speaker_gender'] = speaker_qid_label\n",
    "    \n",
    "    # Extract which of the most common occupation the speaker has.\n",
    "    most_common_occupations = {'actor', 'american football player', 'association football player', 'baseball player',\n",
    "                               'basketball player', 'businessperson', 'chief executive officer', 'composer',\n",
    "                               'entrepreneur', 'film actor', 'film director', 'film producer', 'investor', 'journalist',\n",
    "                               'lawyer', 'musician', 'non-fiction writer', 'politician', 'researcher', 'restaurateur',\n",
    "                               'screenwriter', 'singer', 'television actor', 'television presenter', 'television producer',\n",
    "                               'university teacher', 'writer'}\n",
    "    \n",
    "    speaker_occupations = speaker_data.get(line['qids'], {}).get('occupation', None)\n",
    "    speaker_occupations = [] if speaker_occupations is None else speaker_occupations\n",
    "    \n",
    "    features['speaker_occupation'] = {occupation: False for occupation in most_common_occupations}\n",
    "    for occupation in speaker_occupations:\n",
    "        occupation = qid_labels.get(occupation, '').lower()\n",
    "        if occupation in features['speaker_occupation']:\n",
    "            features['speaker_occupation'][occupation] = True\n",
    "            \n",
    "    return features\n",
    "    \n",
    "\n",
    "\n",
    "def extract_features(line, speaker_data):    \n",
    "    features = {}\n",
    "    \n",
    "    # Extract outcome variable.\n",
    "    features['num_occurrences'] = line['numOccurrences']\n",
    "    \n",
    "    # Extract speaker information.\n",
    "    speaker_features = extract_speaker_features(line, speaker_data)\n",
    "    if speaker_features is None:\n",
    "        return\n",
    "    \n",
    "    features.update(speaker_features)\n",
    "    \n",
    "    # Extract topics of quote.\n",
    "    \n",
    "\n",
    "    # Extract domains from news urls.\n",
    "    # features['domains'] = feature_extraction.domains_from_urls(line['urls'])\n",
    "    \n",
    "    return features\n",
    "    \n",
    "    \n",
    "\n",
    "\n",
    "def preprocess_dataset(data_dir, output_file_path, speaker_info_file_path,\n",
    "                       can_reuse_output = True):\n",
    "    if os.path.isfile(output_file_path) and can_reuse_output:\n",
    "        return\n",
    "    \n",
    "    # Load part of data extracted from Wikidata dump about speakers.\n",
    "    speaker_data = pd.read_parquet(speaker_info_file_path, columns = ['id', 'date_of_birth', 'gender', 'occupation']).set_index('id').to_dict('index')\n",
    "\n",
    "    with bz2.open(output_file_path, \"wb\") as output_file:\n",
    "        \n",
    "        for line in utils.json_lines_generator(data_dir):\n",
    "            # Convert list of speaker qids into a single value.\n",
    "            # If several qids possible, choose the one with largest link count.\n",
    "            line['qids'] = feature_extraction.solve_ambiguous_speakers(line['qids'], linkcounts)\n",
    "                 \n",
    "            # Ignore lines for which speaker information is not available.\n",
    "            if line['qids'] is None:\n",
    "                continue\n",
    "                \n",
    "            # Extract features from line.\n",
    "            features = extract_features(line, speaker_data)\n",
    "            \n",
    "            # Ignore lines for which feature extraction failed due to unavailability of information or\n",
    "            # due to filtering of extreme values.\n",
    "            if features is None:\n",
    "                continue\n",
    "            \n",
    "            # Store features of line.\n",
    "            output_file.write((json.dumps(features) + '\\n').encode('utf-8'))"
   ]
  },
  {
   "cell_type": "code",
   "execution_count": 5,
   "id": "7a38b16b",
   "metadata": {},
   "outputs": [
    {
     "name": "stdout",
     "output_type": "stream",
     "text": [
      "Starting processing Data\\quotes-2015.json.bz2\n",
      "Processed 1000000 lines from Data\\quotes-2015.json.bz2 in 1.679 minutes\n",
      "Processed 2000000 lines from Data\\quotes-2015.json.bz2 in 3.397 minutes\n",
      "Processed 3000000 lines from Data\\quotes-2015.json.bz2 in 5.106 minutes\n"
     ]
    },
    {
     "ename": "KeyboardInterrupt",
     "evalue": "",
     "output_type": "error",
     "traceback": [
      "\u001b[1;31m---------------------------------------------------------------------------\u001b[0m",
      "\u001b[1;31mKeyboardInterrupt\u001b[0m                         Traceback (most recent call last)",
      "\u001b[1;32m~\\AppData\\Local\\Temp/ipykernel_15076/2677753649.py\u001b[0m in \u001b[0;36m<module>\u001b[1;34m\u001b[0m\n\u001b[1;32m----> 1\u001b[1;33m preprocess_dataset(DATA_DIR,\n\u001b[0m\u001b[0;32m      2\u001b[0m                    \u001b[0mPREPROCESSED_DATASET_FILE_PATH\u001b[0m\u001b[1;33m,\u001b[0m\u001b[1;33m\u001b[0m\u001b[1;33m\u001b[0m\u001b[0m\n\u001b[0;32m      3\u001b[0m                    \u001b[0mSPEAKER_INFO_FILE_PATH\u001b[0m\u001b[1;33m,\u001b[0m\u001b[1;33m\u001b[0m\u001b[1;33m\u001b[0m\u001b[0m\n\u001b[0;32m      4\u001b[0m                    can_reuse_output = False)\n",
      "\u001b[1;32m~\\AppData\\Local\\Temp/ipykernel_15076/220312183.py\u001b[0m in \u001b[0;36mpreprocess_dataset\u001b[1;34m(data_dir, output_file_path, speaker_info_file_path, can_reuse_output)\u001b[0m\n\u001b[0;32m     96\u001b[0m \u001b[1;33m\u001b[0m\u001b[0m\n\u001b[0;32m     97\u001b[0m             \u001b[1;31m# Store features of line.\u001b[0m\u001b[1;33m\u001b[0m\u001b[1;33m\u001b[0m\u001b[1;33m\u001b[0m\u001b[0m\n\u001b[1;32m---> 98\u001b[1;33m             \u001b[0moutput_file\u001b[0m\u001b[1;33m.\u001b[0m\u001b[0mwrite\u001b[0m\u001b[1;33m(\u001b[0m\u001b[1;33m(\u001b[0m\u001b[0mjson\u001b[0m\u001b[1;33m.\u001b[0m\u001b[0mdumps\u001b[0m\u001b[1;33m(\u001b[0m\u001b[0mfeatures\u001b[0m\u001b[1;33m)\u001b[0m \u001b[1;33m+\u001b[0m \u001b[1;34m'\\n'\u001b[0m\u001b[1;33m)\u001b[0m\u001b[1;33m.\u001b[0m\u001b[0mencode\u001b[0m\u001b[1;33m(\u001b[0m\u001b[1;34m'utf-8'\u001b[0m\u001b[1;33m)\u001b[0m\u001b[1;33m)\u001b[0m\u001b[1;33m\u001b[0m\u001b[1;33m\u001b[0m\u001b[0m\n\u001b[0m",
      "\u001b[1;32mC:\\Anaconda3\\envs\\ada\\lib\\bz2.py\u001b[0m in \u001b[0;36mwrite\u001b[1;34m(self, data)\u001b[0m\n\u001b[0;32m    243\u001b[0m         \u001b[1;32mwith\u001b[0m \u001b[0mself\u001b[0m\u001b[1;33m.\u001b[0m\u001b[0m_lock\u001b[0m\u001b[1;33m:\u001b[0m\u001b[1;33m\u001b[0m\u001b[1;33m\u001b[0m\u001b[0m\n\u001b[0;32m    244\u001b[0m             \u001b[0mself\u001b[0m\u001b[1;33m.\u001b[0m\u001b[0m_check_can_write\u001b[0m\u001b[1;33m(\u001b[0m\u001b[1;33m)\u001b[0m\u001b[1;33m\u001b[0m\u001b[1;33m\u001b[0m\u001b[0m\n\u001b[1;32m--> 245\u001b[1;33m             \u001b[0mcompressed\u001b[0m \u001b[1;33m=\u001b[0m \u001b[0mself\u001b[0m\u001b[1;33m.\u001b[0m\u001b[0m_compressor\u001b[0m\u001b[1;33m.\u001b[0m\u001b[0mcompress\u001b[0m\u001b[1;33m(\u001b[0m\u001b[0mdata\u001b[0m\u001b[1;33m)\u001b[0m\u001b[1;33m\u001b[0m\u001b[1;33m\u001b[0m\u001b[0m\n\u001b[0m\u001b[0;32m    246\u001b[0m             \u001b[0mself\u001b[0m\u001b[1;33m.\u001b[0m\u001b[0m_fp\u001b[0m\u001b[1;33m.\u001b[0m\u001b[0mwrite\u001b[0m\u001b[1;33m(\u001b[0m\u001b[0mcompressed\u001b[0m\u001b[1;33m)\u001b[0m\u001b[1;33m\u001b[0m\u001b[1;33m\u001b[0m\u001b[0m\n\u001b[0;32m    247\u001b[0m             \u001b[0mself\u001b[0m\u001b[1;33m.\u001b[0m\u001b[0m_pos\u001b[0m \u001b[1;33m+=\u001b[0m \u001b[0mlen\u001b[0m\u001b[1;33m(\u001b[0m\u001b[0mdata\u001b[0m\u001b[1;33m)\u001b[0m\u001b[1;33m\u001b[0m\u001b[1;33m\u001b[0m\u001b[0m\n",
      "\u001b[1;31mKeyboardInterrupt\u001b[0m: "
     ]
    }
   ],
   "source": [
    "preprocess_dataset(DATA_DIR,\n",
    "                   PREPROCESSED_DATASET_FILE_PATH,\n",
    "                   SPEAKER_INFO_FILE_PATH,\n",
    "                   can_reuse_output = False)"
   ]
  }
 ],
 "metadata": {
  "kernelspec": {
   "display_name": "Python 3 (ipykernel)",
   "language": "python",
   "name": "python3"
  },
  "language_info": {
   "codemirror_mode": {
    "name": "ipython",
    "version": 3
   },
   "file_extension": ".py",
   "mimetype": "text/x-python",
   "name": "python",
   "nbconvert_exporter": "python",
   "pygments_lexer": "ipython3",
   "version": "3.8.11"
  }
 },
 "nbformat": 4,
 "nbformat_minor": 5
}
