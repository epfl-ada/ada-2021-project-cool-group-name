{
 "cells": [
  {
   "cell_type": "markdown",
   "id": "73af29f5",
   "metadata": {},
   "source": [
    "## Question:\n",
    "What makes a quote go viral?\n",
    "\n",
    "## Terminology:\n",
    "**VIRAL:** more than 100 occurrences on different sites.\n",
    "\n",
    "## Application:\n",
    "Providing insight on how politicians, influencers, etc. may obtain lots of visibility on a single quote.\n",
    "\n",
    "## Outcome Variables:\n",
    "- Viral: yes / no\n",
    "- How fast viral viral: in how long viral quotes reached 2/3 of occurrences.\n",
    "\n",
    "## Features:\n",
    "- Indicator variables for 3 most common jobs\n",
    "- Indicator variables for 3 most common genders\n",
    "- Indicator variables for 3 most common ethnicities\n",
    "- Indicator variables for 3 most common age of speaker\n",
    "- Hour of quote?\n",
    "- Topic: detect most common topics and indicator vars of them\n",
    "\n",
    "## Technique:\n",
    "Linear regression / Logistic regression / SVM"
   ]
  },
  {
   "cell_type": "code",
   "execution_count": null,
   "id": "c222f2ec",
   "metadata": {},
   "outputs": [],
   "source": []
  }
 ],
 "metadata": {
  "kernelspec": {
   "display_name": "Python 3 (ipykernel)",
   "language": "python",
   "name": "python3"
  },
  "language_info": {
   "codemirror_mode": {
    "name": "ipython",
    "version": 3
   },
   "file_extension": ".py",
   "mimetype": "text/x-python",
   "name": "python",
   "nbconvert_exporter": "python",
   "pygments_lexer": "ipython3",
   "version": "3.8.11"
  }
 },
 "nbformat": 4,
 "nbformat_minor": 5
}
