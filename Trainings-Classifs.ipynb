{
 "cells": [
  {
   "cell_type": "code",
   "execution_count": 1,
   "id": "171905cd",
   "metadata": {},
   "outputs": [],
   "source": [
    "# Importing useful packages.\n",
    "import numpy as np\n",
    "import pandas as pd\n",
    "import os\n",
    "import matplotlib.pyplot as plt\n",
    "%matplotlib inline\n",
    "%load_ext autoreload\n",
    "%autoreload 2\n",
    "\n",
    "# Importing our utilitary modules.\n",
    "import src.utils as utils"
   ]
  },
  {
   "cell_type": "code",
   "execution_count": 2,
   "id": "ded5805c",
   "metadata": {},
   "outputs": [],
   "source": [
    "from sklearn.model_selection import train_test_split, cross_validate, StratifiedKFold, GridSearchCV\n",
    "import scipy.sparse\n",
    "import scipy.stats\n",
    "import time\n",
    "\n",
    "from sklearn.metrics import r2_score, explained_variance_score, max_error, mean_squared_error, median_absolute_error, make_scorer\n",
    "from sklearn.svm import LinearSVC"
   ]
  },
  {
   "cell_type": "code",
   "execution_count": 3,
   "id": "12ef656e",
   "metadata": {},
   "outputs": [],
   "source": [
    "# Defining constants.\n",
    "DATA_DIR = 'Data'\n",
    "CACHE_DIR = 'Cache'\n",
    "SPEAKER_INFO_FILE_PATH = os.path.join(DATA_DIR, 'speaker_attributes.parquet')\n",
    "PREPROCESSED_DATASET_FILE_PATH = os.path.join(CACHE_DIR, \"preprocessed_dataset.json.bz2\")"
   ]
  },
  {
   "cell_type": "code",
   "execution_count": 4,
   "id": "d433ddc3",
   "metadata": {},
   "outputs": [],
   "source": [
    "@utils.cache_to_file_pickle(\"function-make_features_labels_arrays\", cache_dir = CACHE_DIR, ignore_kwargs = ['batch_size'])\n",
    "def make_features_labels_arrays(preprocessed_dataset_file_path, batch_size = 1000000):    \n",
    "    return features, num_occurrences, features_cols_titles"
   ]
  },
  {
   "cell_type": "code",
   "execution_count": 5,
   "id": "92531237",
   "metadata": {},
   "outputs": [],
   "source": [
    "def remove_quotes_unknown_topics(features, num_occurrences, features_cols_titles):\n",
    "    # Remove quotes with unknown topic.\n",
    "    unknown_topic_col = features_cols_titles.index('quotation_topic_UNKNOWN')\n",
    "    mask_rows = features[:, unknown_topic_col].toarray().ravel() == 0  \n",
    "    features = features[mask_rows, :]\n",
    "    num_occurrences = num_occurrences[mask_rows]\n",
    "    \n",
    "    # Remove topic column (useless as all-zeros).\n",
    "    mask_cols = np.arange(len(features_cols_titles)) != unknown_topic_col    \n",
    "    features = features[:, mask_cols]\n",
    "    features_cols_titles.pop(unknown_topic_col)\n",
    "    \n",
    "    return features, num_occurrences, features_cols_titles\n",
    "\n",
    "def get_very_stratifier(targets, percentile_step = 5e-5):\n",
    "\n",
    "    # Make bins of number of occurrences used to stratify.    \n",
    "    bins = np.percentile(targets, np.arange(0, 100, percentile_step), interpolation = 'nearest')\n",
    "    bins = np.unique(bins)\n",
    "    stratifier = np.digitize(targets, bins)\n",
    "\n",
    "    return stratifier"
   ]
  },
  {
   "cell_type": "code",
   "execution_count": 6,
   "id": "fcdce1ea",
   "metadata": {},
   "outputs": [],
   "source": [
    "def linear_svm_cv(features, labels, cv_n_splits = 10, n_jobs = 1, verbose = True):    \n",
    "    \n",
    "    print(f\"Training on {len(labels)} samples with {features.shape[1]} features\")\n",
    "    print(f\"Positive samples: {np.sum(labels == 1)}, negative samples: {np.sum(labels == 0)}\")\n",
    "         \n",
    "    folds = list(StratifiedKFold(n_splits = cv_n_splits, shuffle = True).split(np.zeros_like(labels), labels))  \n",
    "     \n",
    "    # class_weight = 'balanced' ???\n",
    "    results = cross_validate(estimator  = LinearSVC(dual = False, max_iter = 10000), X = features, y = labels,\n",
    "                             cv         = folds,              \n",
    "                             scoring    = {'accuracy' : 'accuracy',\n",
    "                                           'precision': 'precision',\n",
    "                                           'recall'   : 'recall',\n",
    "                                           'f1'       : 'f1',\n",
    "                                           'sparsity' : lambda estimator, X, y: np.mean(np.abs(estimator.coef_) < 1e-8)},\n",
    "                             return_train_score = True,\n",
    "                             n_jobs = n_jobs,\n",
    "                             verbose = 2 if verbose else 0)\n",
    "    return results"
   ]
  },
  {
   "cell_type": "code",
   "execution_count": 35,
   "id": "e75a5eaa",
   "metadata": {},
   "outputs": [
    {
     "name": "stdout",
     "output_type": "stream",
     "text": [
      "Training on 20980045 samples with 626 features\n",
      "Positive samples: 4478772, negative samples: 16501273\n"
     ]
    },
    {
     "name": "stderr",
     "output_type": "stream",
     "text": [
      "[Parallel(n_jobs=1)]: Using backend SequentialBackend with 1 concurrent workers.\n"
     ]
    },
    {
     "name": "stdout",
     "output_type": "stream",
     "text": [
      "[CV] END .................................................... total time= 2.9min\n"
     ]
    },
    {
     "name": "stderr",
     "output_type": "stream",
     "text": [
      "[Parallel(n_jobs=1)]: Done   1 out of   1 | elapsed:  3.4min remaining:    0.0s\n"
     ]
    },
    {
     "name": "stdout",
     "output_type": "stream",
     "text": [
      "[CV] END .................................................... total time= 3.0min\n",
      "[CV] END .................................................... total time= 3.0min\n",
      "[CV] END .................................................... total time= 2.9min\n",
      "[CV] END .................................................... total time= 3.0min\n",
      "[CV] END .................................................... total time= 2.9min\n",
      "[CV] END .................................................... total time= 2.9min\n",
      "[CV] END .................................................... total time= 2.9min\n",
      "[CV] END .................................................... total time= 2.9min\n",
      "[CV] END .................................................... total time= 2.8min\n"
     ]
    },
    {
     "name": "stderr",
     "output_type": "stream",
     "text": [
      "[Parallel(n_jobs=1)]: Done  10 out of  10 | elapsed: 33.3min finished\n"
     ]
    }
   ],
   "source": [
    "np.random.seed(0xADA)\n",
    "VIRAL_THR = 3\n",
    "\n",
    "features, num_occurrences, features_cols_titles = make_features_labels_arrays(preprocessed_dataset_file_path = PREPROCESSED_DATASET_FILE_PATH)\n",
    "features, num_occurrences, features_cols_titles = remove_quotes_unknown_topics(features, num_occurrences, features_cols_titles)\n",
    "features_train, features_test, repeatable_label_train, repeatable_label_test = train_test_split(features, np.uint8(num_occurrences >= VIRAL_THR), test_size = 0.3, shuffle = True, stratify = get_very_stratifier(num_occurrences))\n",
    "results = linear_svm_cv(features_train, repeatable_label_train)"
   ]
  },
  {
   "cell_type": "code",
   "execution_count": 36,
   "id": "0cbb3bb9",
   "metadata": {
    "scrolled": true
   },
   "outputs": [
    {
     "data": {
      "text/plain": [
       "{'fit_time': array([174.04998755, 178.01831293, 174.91157913, 172.80200434,\n",
       "        177.67742515, 174.19187832, 171.60582447, 171.33256674,\n",
       "        172.61173368, 162.87762427]),\n",
       " 'score_time': array([2.39512444, 2.5251267 , 2.31830668, 2.35319138, 2.44929004,\n",
       "        2.35377312, 2.3262918 , 2.32213664, 2.30944324, 2.32915759]),\n",
       " 'test_accuracy': array([0.78651004, 0.78652529, 0.78651719, 0.78651385, 0.78652339,\n",
       "        0.78650708, 0.78652043, 0.78650231, 0.78651232, 0.7865209 ]),\n",
       " 'train_accuracy': array([0.78651549, 0.78651311, 0.78651396, 0.78651433, 0.78651343,\n",
       "        0.78651513, 0.78652112, 0.78651561, 0.7865145 , 0.78651365]),\n",
       " 'test_precision': array([0.4109589 , 0.51530612, 0.46666667, 0.45728643, 0.50847458,\n",
       "        0.41836735, 0.44736842, 0.39393939, 0.44615385, 0.49171271]),\n",
       " 'train_precision': array([0.4536903 , 0.44878626, 0.45385068, 0.45476333, 0.45017794,\n",
       "        0.46003552, 0.47058824, 0.46153846, 0.45521024, 0.45163205]),\n",
       " 'test_recall': array([1.33965352e-04, 2.25508343e-04, 1.71922202e-04, 2.03180330e-04,\n",
       "        2.00947579e-04, 1.83085981e-04, 3.79568498e-05, 1.74154958e-04,\n",
       "        1.94249761e-04, 1.98715272e-04]),\n",
       " 'train_recall': array([1.55548582e-04, 1.88047568e-04, 1.91520742e-04, 1.88295698e-04,\n",
       "        1.88295698e-04, 1.92761161e-04, 4.36627598e-05, 1.87551400e-04,\n",
       "        1.85318645e-04, 1.88791819e-04]),\n",
       " 'test_f1': array([2.67843392e-04, 4.50819398e-04, 3.43717776e-04, 4.06180188e-04,\n",
       "        4.01736394e-04, 3.66011788e-04, 7.59072592e-05, 3.48156001e-04,\n",
       "        3.88330447e-04, 3.97269996e-04]),\n",
       " 'train_f1': array([3.10990540e-04, 3.75937612e-04, 3.82879912e-04, 3.76435532e-04,\n",
       "        3.76433946e-04, 3.85360851e-04, 8.73174179e-05, 3.74950434e-04,\n",
       "        3.70486463e-04, 3.77425866e-04]),\n",
       " 'test_sparsity': array([0., 0., 0., 0., 0., 0., 0., 0., 0., 0.]),\n",
       " 'train_sparsity': array([0., 0., 0., 0., 0., 0., 0., 0., 0., 0.])}"
      ]
     },
     "execution_count": 36,
     "metadata": {},
     "output_type": "execute_result"
    }
   ],
   "source": [
    "results"
   ]
  },
  {
   "cell_type": "markdown",
   "id": "a0edb6b9",
   "metadata": {},
   "source": [
    "From these results, we can see svm predicts is bad.\n",
    "\n",
    "Let's retry balancing the loss."
   ]
  },
  {
   "cell_type": "code",
   "execution_count": 37,
   "id": "887ec8cc",
   "metadata": {},
   "outputs": [],
   "source": [
    "def linear_svm_cv(features, labels, cv_n_splits = 10, n_jobs = 1, verbose = True):    \n",
    "    \n",
    "    print(f\"Training on {len(labels)} samples with {features.shape[1]} features\")\n",
    "    print(f\"Positive samples: {np.sum(labels == 1)}, negative samples: {np.sum(labels == 0)}\")\n",
    "         \n",
    "    folds = list(StratifiedKFold(n_splits = cv_n_splits, shuffle = True).split(np.zeros_like(labels), labels))  \n",
    "    \n",
    "    results = cross_validate(estimator  = LinearSVC(dual = False, max_iter = 10000, class_weight = 'balanced'), X = features, y = labels,\n",
    "                             cv         = folds,              \n",
    "                             scoring    = {'accuracy' : 'accuracy',\n",
    "                                           'precision': 'precision',\n",
    "                                           'recall'   : 'recall',\n",
    "                                           'f1'       : 'f1',\n",
    "                                           'sparsity' : lambda estimator, X, y: np.mean(np.abs(estimator.coef_) < 1e-8)},\n",
    "                             return_train_score = True,\n",
    "                             n_jobs = n_jobs,\n",
    "                             verbose = 2 if verbose else 0)\n",
    "    return results"
   ]
  },
  {
   "cell_type": "code",
   "execution_count": 38,
   "id": "0a69f90c",
   "metadata": {},
   "outputs": [
    {
     "name": "stdout",
     "output_type": "stream",
     "text": [
      "Training on 20980045 samples with 626 features\n",
      "Positive samples: 4478772, negative samples: 16501273\n"
     ]
    },
    {
     "name": "stderr",
     "output_type": "stream",
     "text": [
      "[Parallel(n_jobs=1)]: Using backend SequentialBackend with 1 concurrent workers.\n"
     ]
    },
    {
     "name": "stdout",
     "output_type": "stream",
     "text": [
      "[CV] END .................................................... total time= 3.7min\n"
     ]
    },
    {
     "name": "stderr",
     "output_type": "stream",
     "text": [
      "[Parallel(n_jobs=1)]: Done   1 out of   1 | elapsed:  4.1min remaining:    0.0s\n"
     ]
    },
    {
     "name": "stdout",
     "output_type": "stream",
     "text": [
      "[CV] END .................................................... total time= 3.6min\n",
      "[CV] END .................................................... total time= 3.4min\n",
      "[CV] END .................................................... total time= 3.7min\n",
      "[CV] END .................................................... total time= 3.9min\n",
      "[CV] END .................................................... total time= 3.7min\n",
      "[CV] END .................................................... total time= 3.6min\n",
      "[CV] END .................................................... total time= 3.7min\n",
      "[CV] END .................................................... total time= 3.7min\n",
      "[CV] END .................................................... total time= 3.4min\n"
     ]
    },
    {
     "name": "stderr",
     "output_type": "stream",
     "text": [
      "[Parallel(n_jobs=1)]: Done  10 out of  10 | elapsed: 40.8min finished\n"
     ]
    }
   ],
   "source": [
    "np.random.seed(0xADA)\n",
    "VIRAL_THR = 3\n",
    "\n",
    "features, num_occurrences, features_cols_titles = make_features_labels_arrays(preprocessed_dataset_file_path = PREPROCESSED_DATASET_FILE_PATH)\n",
    "features, num_occurrences, features_cols_titles = remove_quotes_unknown_topics(features, num_occurrences, features_cols_titles)\n",
    "features_train, features_test, repeatable_label_train, repeatable_label_test = train_test_split(features, np.uint8(num_occurrences >= VIRAL_THR), test_size = 0.3, shuffle = True, stratify = get_very_stratifier(num_occurrences))\n",
    "results = linear_svm_cv(features_train, repeatable_label_train)"
   ]
  },
  {
   "cell_type": "code",
   "execution_count": 39,
   "id": "9c8e500d",
   "metadata": {},
   "outputs": [
    {
     "data": {
      "text/plain": [
       "{'fit_time': array([216.35729647, 215.21656728, 202.06312442, 218.43421555,\n",
       "        229.24264979, 220.04649854, 215.98633671, 218.38077879,\n",
       "        219.53338146, 201.47886491]),\n",
       " 'score_time': array([2.78905845, 2.63198709, 2.63247633, 2.66497564, 2.55172586,\n",
       "        2.59604788, 2.59504557, 2.60983706, 2.56846189, 2.62263298]),\n",
       " 'test_accuracy': array([0.56133565, 0.5621836 , 0.56135424, 0.56175462, 0.56108446,\n",
       "        0.56181685, 0.56105327, 0.56167719, 0.56182352, 0.56152038]),\n",
       " 'train_accuracy': array([0.56163725, 0.56156093, 0.56160929, 0.56171394, 0.56161554,\n",
       "        0.56166116, 0.56176549, 0.56172704, 0.56156593, 0.56177137]),\n",
       " 'test_precision': array([0.26152178, 0.26205681, 0.26161343, 0.26149453, 0.26122252,\n",
       "        0.26168033, 0.2610256 , 0.26153439, 0.26167729, 0.26161704]),\n",
       " 'train_precision': array([0.26163069, 0.26158601, 0.26162535, 0.26166737, 0.26167245,\n",
       "        0.26165454, 0.26170958, 0.26164312, 0.26161425, 0.26164416]),\n",
       " 'test_recall': array([0.57838871, 0.5786879 , 0.57876605, 0.57718397, 0.57764391,\n",
       "        0.57788634, 0.57681462, 0.57756929, 0.57785508, 0.57835522]),\n",
       " 'train_recall': array([0.57811776, 0.57810685, 0.5781649 , 0.57809087, 0.57836748,\n",
       "        0.57816688, 0.57815374, 0.5779446 , 0.57822494, 0.57783544]),\n",
       " 'test_f1': array([0.3601842 , 0.36074947, 0.36034428, 0.35992445, 0.35975596,\n",
       "        0.360237  , 0.35940835, 0.36003711, 0.36022804, 0.36026804]),\n",
       " 'train_f1': array([0.3602349 , 0.36019043, 0.36023899, 0.36026444, 0.36032296,\n",
       "        0.36026704, 0.36031666, 0.36021306, 0.36024012, 0.36019284]),\n",
       " 'test_sparsity': array([0., 0., 0., 0., 0., 0., 0., 0., 0., 0.]),\n",
       " 'train_sparsity': array([0., 0., 0., 0., 0., 0., 0., 0., 0., 0.])}"
      ]
     },
     "execution_count": 39,
     "metadata": {},
     "output_type": "execute_result"
    }
   ],
   "source": [
    "results"
   ]
  },
  {
   "cell_type": "code",
   "execution_count": 7,
   "id": "f2811d9a",
   "metadata": {},
   "outputs": [],
   "source": [
    "from sklearn.tree import DecisionTreeClassifier"
   ]
  },
  {
   "cell_type": "code",
   "execution_count": 43,
   "id": "94fdd6bb",
   "metadata": {},
   "outputs": [],
   "source": [
    "def plot_pruning_alphas_vs_impurities(X_train, y_train, clf, downsampling_factor):\n",
    "    \n",
    "    if downsampling_factor > 1:\n",
    "        X_train, _, y_train, _ = train_test_split(X_train, y_train, train_size = 1 / downsampling_factor, shuffle = True, stratify = get_very_stratifier(y_train))\n",
    "        \n",
    "    path = clf.cost_complexity_pruning_path(X_train, y_train)\n",
    "    ccp_alphas, impurities = path.ccp_alphas, path.impurities\n",
    "\n",
    "    fig, ax = plt.subplots()\n",
    "    ax.plot(ccp_alphas[:-1], impurities[:-1], marker=\"o\", drawstyle=\"steps-post\")\n",
    "    ax.set_xlabel(\"effective alpha\")\n",
    "    ax.set_ylabel(\"total impurity of leaves\")\n",
    "    ax.set_title(\"Total Impurity vs effective alpha for training set\")\n",
    "    \n",
    "    return ccp_alphas, impurities"
   ]
  },
  {
   "cell_type": "code",
   "execution_count": 44,
   "id": "da230992",
   "metadata": {},
   "outputs": [],
   "source": [
    "np.random.seed(0xADA)\n",
    "VIRAL_THR = 3\n",
    "\n",
    "features, num_occurrences, features_cols_titles = make_features_labels_arrays(preprocessed_dataset_file_path = PREPROCESSED_DATASET_FILE_PATH)\n",
    "features, num_occurrences, features_cols_titles = remove_quotes_unknown_topics(features, num_occurrences, features_cols_titles)\n",
    "features_train, features_test, repeatable_label_train, repeatable_label_test = train_test_split(features, np.uint8(num_occurrences >= VIRAL_THR), test_size = 0.3, shuffle = True, stratify = get_very_stratifier(num_occurrences))"
   ]
  },
  {
   "cell_type": "code",
   "execution_count": 45,
   "id": "2d0c255d",
   "metadata": {},
   "outputs": [
    {
     "data": {
      "image/png": "[encoded data removed]",
      "text/plain": [
       "<Figure size 432x288 with 1 Axes>"
      ]
     },
     "metadata": {
      "needs_background": "light"
     },
     "output_type": "display_data"
    }
   ],
   "source": [
    "ccp_alphas, impurities = plot_pruning_alphas_vs_impurities(features_train, repeatable_label_train, DecisionTreeClassifier(max_depth = 50), downsampling_factor = 10)"
   ]
  },
  {
   "cell_type": "code",
   "execution_count": 59,
   "id": "a657a76f",
   "metadata": {},
   "outputs": [
    {
     "data": {
      "text/plain": [
       "Text(0, 0.5, 'total impurity of leaves')"
      ]
     },
     "execution_count": 59,
     "metadata": {},
     "output_type": "execute_result"
    },
    {
     "data": {
      "image/png": "[encoded data removed]",
      "text/plain": [
       "<Figure size 1080x504 with 1 Axes>"
      ]
     },
     "metadata": {
      "needs_background": "light"
     },
     "output_type": "display_data"
    }
   ],
   "source": [
    "fig, ax = plt.subplots()\n",
    "ax.plot(ccp_alphas, impurities, marker=\"o\", drawstyle=\"steps-post\")\n",
    "plt.xscale('log')\n",
    "ax.set_xlabel(\"effective alpha\")\n",
    "ax.set_ylabel(\"total impurity of leaves\")\n",
    "#ax.set_title(\"Total Impurity vs effective alpha for training set\")"
   ]
  },
  {
   "cell_type": "code",
   "execution_count": 8,
   "id": "657af793",
   "metadata": {},
   "outputs": [],
   "source": [
    "from copy import deepcopy\n",
    "\n",
    "from sklearn.metrics import r2_score, explained_variance_score, max_error, mean_squared_error, median_absolute_error, make_scorer\n",
    "\n",
    "\n",
    "def tree_classif_cv(features, repeatable_label, ccp_alphas, cv_n_splits = 10, verbose = True):\n",
    "    \n",
    "    print(\"Training on {} samples with {} features\".format(*features.shape))\n",
    "    \n",
    "    folds = list(StratifiedKFold(n_splits = cv_n_splits, shuffle = True).split(np.zeros_like(repeatable_label), repeatable_label))\n",
    "    \n",
    "    # Train on single fold, validate on all other folds for computational cost reasons.\n",
    "    folds = [elem[::-1] for elem in folds]\n",
    "        \n",
    "    results = []\n",
    "    \n",
    "    # Train on single fold, evaluate on all other folds for computational cost reasons.\n",
    "    for i, (train_index, val_index) in enumerate(folds):\n",
    "        if verbose:\n",
    "            print(f\"Starting Fold {i + 1} of {len(folds)}\")\n",
    "            start = time.time()\n",
    "        \n",
    "        features_train = features[train_index]\n",
    "        features_val   = features[val_index]\n",
    "        repeatable_label_train = repeatable_label[train_index]\n",
    "        repeatable_label_val   = repeatable_label[val_index]\n",
    "        \n",
    "        unpruned_model = DecisionTreeClassifier(max_depth = 50).fit(features_train, repeatable_label_train) \n",
    "        \n",
    "        current_fold_results = {alpha: {'train_scores': {}, 'val_scores': {}} for alpha in ccp_alphas}\n",
    "        \n",
    "        for alpha in ccp_alphas:\n",
    "            model = deepcopy(unpruned_model)\n",
    "            model.set_params(ccp_alpha = alpha)\n",
    "            model._prune_tree()\n",
    "                        \n",
    "            for key, (X, y) in zip(['train_scores', 'val_scores'], [(features_train, repeatable_label_train), (features_val, repeatable_label_val)]):\n",
    "                preds = model.predict(X)\n",
    "\n",
    "                current_fold_results[alpha][key]['accuracy']              = accuracy_score(y, preds)\n",
    "                current_fold_results[alpha][key]['precision']             = precision_score(y, preds)\n",
    "                current_fold_results[alpha][key]['recall']                = recall_score(y, preds)\n",
    "                current_fold_results[alpha][key]['f1']                    = f1_score(y, preds)\n",
    "            \n",
    "        results.append(current_fold_results)\n",
    "            \n",
    "        if verbose:\n",
    "            print(f\"Finished Fold {i + 1} of {len(folds)} in {time.time() - start} seconds\")\n",
    "\n",
    "    return results"
   ]
  },
  {
   "cell_type": "code",
   "execution_count": null,
   "id": "d145a2e0",
   "metadata": {},
   "outputs": [
    {
     "name": "stdout",
     "output_type": "stream",
     "text": [
      "Training on 20980045 samples with 626 features\n",
      "Starting Fold 1 of 10\n"
     ]
    }
   ],
   "source": [
    "np.random.seed(0xADA)\n",
    "VIRAL_THR = 3\n",
    "\n",
    "features, num_occurrences, features_cols_titles = make_features_labels_arrays(preprocessed_dataset_file_path = PREPROCESSED_DATASET_FILE_PATH)\n",
    "features, num_occurrences, features_cols_titles = remove_quotes_unknown_topics(features, num_occurrences, features_cols_titles)\n",
    "features_train, features_test, repeatable_label_train, repeatable_label_test = train_test_split(features, np.uint8(num_occurrences >= VIRAL_THR), test_size = 0.3, shuffle = True, stratify = get_very_stratifier(num_occurrences))\n",
    "results = tree_classif_cv(features_train, repeatable_label_train, [0] + list(np.geomspace(1e-9, 1e-4, num = 51)))"
   ]
  },
  {
   "cell_type": "code",
   "execution_count": null,
   "id": "be1af9af",
   "metadata": {},
   "outputs": [],
   "source": [
    "results"
   ]
  }
 ],
 "metadata": {
  "kernelspec": {
   "display_name": "Python 3 (ipykernel)",
   "language": "python",
   "name": "python3"
  },
  "language_info": {
   "codemirror_mode": {
    "name": "ipython",
    "version": 3
   },
   "file_extension": ".py",
   "mimetype": "text/x-python",
   "name": "python",
   "nbconvert_exporter": "python",
   "pygments_lexer": "ipython3",
   "version": "3.8.11"
  }
 },
 "nbformat": 4,
 "nbformat_minor": 5
}
